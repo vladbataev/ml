{
 "cells": [
  {
   "cell_type": "code",
   "execution_count": 120,
   "metadata": {
    "collapsed": true
   },
   "outputs": [],
   "source": [
    "from collections import namedtuple\n",
    "from scipy.spatial.distance import cosine\n",
    "from copy import deepcopy\n",
    "from pymystem3 import Mystem\n",
    "from sklearn_crfsuite import scorers\n",
    "from sklearn_crfsuite import metrics\n",
    "from sklearn.model_selection import train_test_split, ShuffleSplit\n",
    "from collections import defaultdict, Counter\n",
    "from matplotlib import pyplot as plt\n",
    "\n",
    "import os\n",
    "import pandas as pd\n",
    "import numpy as np\n",
    "import pycrfsuite\n",
    "import sklearn_crfsuite\n",
    "import gensim\n",
    "import re\n",
    "import editdistance\n",
    "import itertools\n",
    "import nltk\n",
    "import seaborn\n",
    "\n",
    "%matplotlib inline"
   ]
  },
  {
   "cell_type": "code",
   "execution_count": 70,
   "metadata": {},
   "outputs": [
    {
     "name": "stdout",
     "output_type": "stream",
     "text": [
      "Collecting nltk\n",
      "  Downloading nltk-3.2.4.tar.gz (1.2MB)\n",
      "\u001b[K    100% |████████████████████████████████| 1.2MB 693kB/s ta 0:00:01\n",
      "\u001b[?25hRequirement already satisfied: six in /usr/local/lib/python3.6/site-packages (from nltk)\n",
      "Building wheels for collected packages: nltk\n",
      "  Running setup.py bdist_wheel for nltk ... \u001b[?25ldone\n",
      "\u001b[?25h  Stored in directory: /root/.cache/pip/wheels/79/8b/2a/b2da7fce57a1fd9b20b08fa8800c83b6fde62af9e880722e29\n",
      "Successfully built nltk\n",
      "Installing collected packages: nltk\n",
      "Successfully installed nltk-3.2.4\n"
     ]
    }
   ],
   "source": [
    "!pip3 install nltk"
   ]
  },
  {
   "cell_type": "code",
   "execution_count": 2,
   "metadata": {},
   "outputs": [
    {
     "data": {
      "text/plain": [
       "{'divide': 'warn', 'invalid': 'warn', 'over': 'warn', 'under': 'ignore'}"
      ]
     },
     "execution_count": 2,
     "metadata": {},
     "output_type": "execute_result"
    }
   ],
   "source": [
    "np.seterr(all=\"warn\")"
   ]
  },
  {
   "cell_type": "markdown",
   "metadata": {},
   "source": [
    "Маппинг тем"
   ]
  },
  {
   "cell_type": "code",
   "execution_count": 3,
   "metadata": {
    "collapsed": true
   },
   "outputs": [],
   "source": [
    "translation = [27, 37, 19, [3, 16, 33], 11, 25, 21, 6, 29, [13, 33], 17, 25, 15, 22, 28, 41, 18, 40, 23, [7, 8], 31,\n",
    " 20, 17, 32, 25, 38, 14, 25, 36, 25, 4, 24, 5, [7, 8], 25, 12, 9, 25, 24, 26, 30, 35, 13, 3,\n",
    " 1, 14, 2, 17, 10, 0, 5, 21, 12, -1]\n",
    "translation[27] = [25, 42, 34, 33, 12]\n",
    "translation[43] = [3, 34]\n",
    "translation[22] = [17, 18]\n",
    "translation[47] = [17, 38]\n",
    "translation[12] = [15, 27]\n",
    "translation[43] = [3, 34, 12]\n",
    "translation[21] = [20, 12]\n",
    "translation[25] = [38, 12, 25]\n",
    "translation[42] = [13, 16]\n",
    "translation[10] = [17, 38]\n",
    "translation[24] = [25, 37]\n",
    "del translation[47]\n",
    "translation_set = []\n",
    "for element in translation:\n",
    "    try:\n",
    "        translation_set.append(set(element))\n",
    "    except:\n",
    "        translation_set.append({element})\n",
    "translation = translation_set[:]"
   ]
  },
  {
   "cell_type": "code",
   "execution_count": 4,
   "metadata": {},
   "outputs": [
    {
     "data": {
      "text/plain": [
       "53"
      ]
     },
     "execution_count": 4,
     "metadata": {},
     "output_type": "execute_result"
    }
   ],
   "source": [
    "len(translation)"
   ]
  },
  {
   "cell_type": "code",
   "execution_count": 5,
   "metadata": {},
   "outputs": [
    {
     "data": {
      "text/plain": [
       "{0}"
      ]
     },
     "execution_count": 5,
     "metadata": {},
     "output_type": "execute_result"
    }
   ],
   "source": [
    "translation[48]"
   ]
  },
  {
   "cell_type": "code",
   "execution_count": 6,
   "metadata": {},
   "outputs": [
    {
     "data": {
      "text/plain": [
       "43"
      ]
     },
     "execution_count": 6,
     "metadata": {},
     "output_type": "execute_result"
    }
   ],
   "source": [
    "true_labels = set()\n",
    "for i in translation:\n",
    "    for l in i:\n",
    "        true_labels.add(l)\n",
    "len(true_labels)"
   ]
  },
  {
   "cell_type": "markdown",
   "metadata": {},
   "source": [
    "Лемматизация"
   ]
  },
  {
   "cell_type": "code",
   "execution_count": 7,
   "metadata": {
    "collapsed": true
   },
   "outputs": [],
   "source": [
    "mystem = Mystem()\n",
    "\n",
    "def stem(s):\n",
    "    return [(e['text'].strip(), \\\n",
    "             e['analysis'][0]['lex'] \\\n",
    "                 if 'analysis' in e and len(e['analysis']) > 0 else '', \\\n",
    "             re.match('^([A-Z]+)', e['analysis'][0]['gr']).group(0) \\\n",
    "                 if 'analysis' in e and len(e['analysis']) > 0 else '', \\\n",
    "             ','.join(set(re.findall(r\"[\\w']+\", e['analysis'][0]['gr'])[1:])) \\\n",
    "                 if 'analysis' in e and len(e['analysis']) > 0 else '')\\\n",
    "             for e in mystem.analyze(s) if len(e['text'].strip()) > 0]\n",
    "\n",
    "def get_pos_tag(word):\n",
    "    temp = stem(word)[0]\n",
    "    return temp[2]"
   ]
  },
  {
   "cell_type": "code",
   "execution_count": 8,
   "metadata": {},
   "outputs": [
    {
     "data": {
      "text/plain": [
       "'V'"
      ]
     },
     "execution_count": 8,
     "metadata": {},
     "output_type": "execute_result"
    }
   ],
   "source": [
    "get_pos_tag(\"брать\")"
   ]
  },
  {
   "cell_type": "markdown",
   "metadata": {},
   "source": [
    "Загрузка данных"
   ]
  },
  {
   "cell_type": "code",
   "execution_count": 9,
   "metadata": {
    "collapsed": true
   },
   "outputs": [],
   "source": [
    "with open(\"./data/vw.txt\") as fin:\n",
    "    text = fin.read()\n",
    "topics = pd.read_pickle(\"./data/topics_assessors.pkl\")\n",
    "ptdw = pd.read_pickle(\"./data/ptdw\")\n",
    "w2v_model = gensim.models.Word2Vec.load(\"./data/transcriptions_w2v\")"
   ]
  },
  {
   "cell_type": "code",
   "execution_count": 10,
   "metadata": {},
   "outputs": [
    {
     "data": {
      "text/plain": [
       "(300,)"
      ]
     },
     "execution_count": 10,
     "metadata": {},
     "output_type": "execute_result"
    }
   ],
   "source": [
    "w2v_model[\"банк_S\"].shape"
   ]
  },
  {
   "cell_type": "code",
   "execution_count": 11,
   "metadata": {},
   "outputs": [
    {
     "data": {
      "text/plain": [
       "True"
      ]
     },
     "execution_count": 11,
     "metadata": {},
     "output_type": "execute_result"
    }
   ],
   "source": [
    "\"банк_S\" in w2v_model"
   ]
  },
  {
   "cell_type": "code",
   "execution_count": 12,
   "metadata": {},
   "outputs": [
    {
     "data": {
      "text/plain": [
       "[('банк', 'банк', 'S', 'вин,ед,неод,муж,им'),\n",
       " ('_', '', '', ''),\n",
       " ('тинькофф', 'тинькофф', 'S', 'вин,ед,неод,муж,им')]"
      ]
     },
     "execution_count": 12,
     "metadata": {},
     "output_type": "execute_result"
    }
   ],
   "source": [
    "stem(\"банк_тинькофф\")"
   ]
  },
  {
   "cell_type": "markdown",
   "metadata": {},
   "source": [
    "Их предобработка"
   ]
  },
  {
   "cell_type": "code",
   "execution_count": 13,
   "metadata": {
    "collapsed": true
   },
   "outputs": [],
   "source": [
    "phrases, topic_probs, labels = [], [], []\n",
    "for index, line in enumerate(text.split(\"\\n\")):\n",
    "    temp = line.split()\n",
    "    phrase_id = temp[0]\n",
    "    phrase = temp[2:]\n",
    "    probs = ptdw[phrase_id].as_matrix()\n",
    "    phrase_size = 0\n",
    "    if len(probs.shape) < 2:\n",
    "        phrase_size = 1\n",
    "        probs = np.expand_dims(probs, axis=1)\n",
    "    else:\n",
    "        phrase_size = probs.shape[1]\n",
    "    if phrase_size != len(phrase):\n",
    "        raise\n",
    "    if phrase_id in topics:\n",
    "        phrases.append(phrase)\n",
    "        topic_probs.append(probs)\n",
    "        labels.append(topics[phrase_id])"
   ]
  },
  {
   "cell_type": "code",
   "execution_count": 14,
   "metadata": {},
   "outputs": [
    {
     "data": {
      "text/plain": [
       "[('сказать', 'сказать', 'V', 'сов,инф,пе'),\n",
       " ('кредит', 'кредит', 'S', 'вин,ед,неод,муж,им'),\n",
       " ('какой', 'какой', 'APRO', 'вин,ед,неод,жен,твор,муж,дат,им,пр,род'),\n",
       " ('банка', 'банк', 'S', 'муж,неод,род,ед'),\n",
       " ('_', '', '', ''),\n",
       " ('другой', 'другой', 'APRO', 'вин,ед,неод,жен,твор,муж,дат,им,пр,род')]"
      ]
     },
     "execution_count": 14,
     "metadata": {},
     "output_type": "execute_result"
    }
   ],
   "source": [
    "stem(\" \".join(phrases[1]))"
   ]
  },
  {
   "cell_type": "code",
   "execution_count": 15,
   "metadata": {
    "collapsed": true
   },
   "outputs": [],
   "source": [
    "def argmax_topic_segmentation(topic_prob):\n",
    "    return [np.argmax(topic_prob[:, i]) for i in range(topic_prob.shape[1])]"
   ]
  },
  {
   "cell_type": "code",
   "execution_count": 16,
   "metadata": {},
   "outputs": [
    {
     "data": {
      "text/plain": [
       "[{2}, {22}, {12}, {27}]"
      ]
     },
     "execution_count": 16,
     "metadata": {},
     "output_type": "execute_result"
    }
   ],
   "source": [
    "[translation[i] for i in argmax_topic_segmentation(topic_probs[1])]"
   ]
  },
  {
   "cell_type": "code",
   "execution_count": 17,
   "metadata": {},
   "outputs": [
    {
     "data": {
      "text/plain": [
       "['здравствовать',\n",
       " 'звать',\n",
       " 'имя',\n",
       " 'сотрудник',\n",
       " 'банка',\n",
       " 'тинькофф',\n",
       " 'предложение',\n",
       " 'повод',\n",
       " 'банковский',\n",
       " 'карта',\n",
       " 'пара',\n",
       " 'минута']"
      ]
     },
     "execution_count": 17,
     "metadata": {},
     "output_type": "execute_result"
    }
   ],
   "source": [
    "phrases[0]"
   ]
  },
  {
   "cell_type": "code",
   "execution_count": 18,
   "metadata": {},
   "outputs": [
    {
     "data": {
      "text/plain": [
       "(53, 4)"
      ]
     },
     "execution_count": 18,
     "metadata": {},
     "output_type": "execute_result"
    }
   ],
   "source": [
    "topic_probs[1].shape"
   ]
  },
  {
   "cell_type": "markdown",
   "metadata": {},
   "source": [
    "Генерация фичей"
   ]
  },
  {
   "cell_type": "code",
   "execution_count": 19,
   "metadata": {
    "collapsed": true
   },
   "outputs": [],
   "source": [
    "def meta_word2vec(meta_word, w2v_model):\n",
    "    meta_word_vector = np.zeros(300)\n",
    "    length = 0\n",
    "    for w in meta_word.split(\"_\"):\n",
    "        with_pos = w + \"_\" + get_pos_tag(w)\n",
    "        if with_pos in w2v_model:\n",
    "            meta_word_vector += w2v_model[with_pos]\n",
    "            length += 1\n",
    "    if length == 0:\n",
    "        return None\n",
    "    return meta_word_vector / length\n",
    "    \n",
    "def distance_vector(phrase, index, w2v_model):\n",
    "    source_vector = meta_word2vec(phrase[index], w2v_model)\n",
    "    distances = []\n",
    "    for word in phrase:\n",
    "        distances.append(cosine(metaword2vec(word), source_vector))\n",
    "    return distances"
   ]
  },
  {
   "cell_type": "code",
   "execution_count": 20,
   "metadata": {
    "collapsed": true
   },
   "outputs": [],
   "source": [
    "def phrase_to_features(phrase, phrase_index, topic_prob=None, w2v_model=None, random_noise=False):\n",
    "    features = []\n",
    "    for word_index, word in enumerate(phrase):\n",
    "        word_features = {}\n",
    "        #word_features[\"word\"] = word\n",
    "        \n",
    "        # just for lulz\n",
    "        if random_noise:\n",
    "            rand_features = np.random.normal(size=300)\n",
    "            for i in range(300):\n",
    "                word_features[\"random shit {}\".format(i)] = rand_features[i]\n",
    "        if topic_prob[phrase_index] is not None:\n",
    "            for t in range(topic_prob[phrase_index].shape[0]):\n",
    "                word_features[\"topic {}\".format(t)] = topic_prob[phrase_index][t][word_index]\n",
    "        if w2v_model is not None:\n",
    "            meta_word_vector = meta_word2vec(word, w2v_model)\n",
    "            if meta_word_vector is not None:\n",
    "                for i in range(len(meta_word_vector)):\n",
    "                    word_features[\"w2v {}\".format(i)] = meta_word_vector[i]\n",
    "            try:\n",
    "                if meta_word_vector is not None:\n",
    "                    if word_index > 0:\n",
    "                        left_word = meta_word2vec(phrase[word_index - 1], w2v_model)\n",
    "                        if left_word is not None:\n",
    "                            word_features[\"-1 w2v\"] = cosine(left_word, meta_word_vector)\n",
    "                    if word_index < len(phrase) - 1:\n",
    "                        right_word = meta_word2vec(phrase[word_index + 1], w2v_model)\n",
    "                        if right_word is not None:\n",
    "                            word_features[\"+1 w2v\"] = cosine(right_word, meta_word_vector)\n",
    "            except:\n",
    "                print(phrase)\n",
    "                print(word, word_index)\n",
    "                raise\n",
    "        features.append(word_features)\n",
    "    return features"
   ]
  },
  {
   "cell_type": "code",
   "execution_count": 21,
   "metadata": {
    "collapsed": true
   },
   "outputs": [],
   "source": [
    "a = np.array([2, 3, np.nan, 5])"
   ]
  },
  {
   "cell_type": "code",
   "execution_count": 22,
   "metadata": {
    "collapsed": true
   },
   "outputs": [],
   "source": [
    "a = np.array([np.inf, 3, 4])"
   ]
  },
  {
   "cell_type": "code",
   "execution_count": 23,
   "metadata": {},
   "outputs": [
    {
     "data": {
      "text/plain": [
       "inf"
      ]
     },
     "execution_count": 23,
     "metadata": {},
     "output_type": "execute_result"
    }
   ],
   "source": [
    "np.sum(a)"
   ]
  },
  {
   "cell_type": "code",
   "execution_count": 24,
   "metadata": {},
   "outputs": [
    {
     "name": "stderr",
     "output_type": "stream",
     "text": [
      "/usr/local/lib/python3.6/site-packages/ipykernel_launcher.py:1: RuntimeWarning: divide by zero encountered in true_divide\n",
      "  \"\"\"Entry point for launching an IPython kernel.\n"
     ]
    },
    {
     "data": {
      "text/plain": [
       "array([ inf,  inf,  inf])"
      ]
     },
     "execution_count": 24,
     "metadata": {},
     "output_type": "execute_result"
    }
   ],
   "source": [
    "a / 0.0"
   ]
  },
  {
   "cell_type": "code",
   "execution_count": 25,
   "metadata": {},
   "outputs": [
    {
     "data": {
      "text/plain": [
       "(53,)"
      ]
     },
     "execution_count": 25,
     "metadata": {},
     "output_type": "execute_result"
    }
   ],
   "source": [
    "topic_probs[11][:, 0].shape"
   ]
  },
  {
   "cell_type": "markdown",
   "metadata": {},
   "source": [
    "Функции для оценивания качества модели"
   ]
  },
  {
   "cell_type": "code",
   "execution_count": 113,
   "metadata": {
    "collapsed": true
   },
   "outputs": [],
   "source": [
    "def transform_to_symbols(seq):\n",
    "    return [chr(x + ord('a')) for x in seq]\n",
    "\n",
    "def squash_sequence(seq):\n",
    "    result = []\n",
    "    if len(seq) == 0:\n",
    "        return result\n",
    "    result = [seq[0]]\n",
    "    for x in seq[1:]:\n",
    "        if x != result[-1]:\n",
    "            result.append(x)\n",
    "    return result\n",
    "\n",
    "def topics_edit_distance(pred_seq, true_seq, translation):\n",
    "    distances = np.zeros(shape=(len(pred_seq) + 1, len(true_seq) + 1))\n",
    "    for i in range(len(pred_seq) + 1):\n",
    "        distances[i, 0] = i\n",
    "    for i in range(len(true_seq) + 1):\n",
    "        distances[0, i] = i\n",
    "    for i in range(1, len(pred_seq) + 1):\n",
    "        for j in range(1, len(true_seq) + 1):\n",
    "            exchange_weight = 1\n",
    "            if true_seq[j - 1] in translation[pred_seq[i - 1]]:\n",
    "                exchange_weight = 0\n",
    "            distances[i, j] = min(distances[i - 1, j] + 1, distances[i, j - 1] + 1, distances[i - 1, j - 1] + exchange_weight)\n",
    "    return distances[-1, -1]\n",
    "\n",
    "def get_boundaries(label_seq):\n",
    "    prev_label = label_seq[0]\n",
    "    boundaries = [\"0\"]\n",
    "    for label in label_seq[1:]:\n",
    "        if label != prev_label:\n",
    "            prev_label = label\n",
    "            boundaries.append(\"1\")\n",
    "        else:\n",
    "            boundaries.append(\"0\")\n",
    "    return \"\".join(boundaries)\n",
    "    \n",
    "def wd_distance(pred_seq, true_seq):\n",
    "    pred_boundaries = get_boundaries(pred_seq)\n",
    "    true_boundaries = get_boundaries(true_seq)\n",
    "    num_true_segments = 1\n",
    "    for i in true_boundaries:\n",
    "        if i == \"1\":\n",
    "            num_true_segments += 1\n",
    "    k = len(pred_seq) // (2 * num_true_segments)\n",
    "    return nltk.segmentation.windowdiff(true_boundaries, pred_boundaries, k)\n",
    "\n",
    "def smoothing_weigths(window_size):\n",
    "    weights = [i * i for i in range(-window_size, window_size + 1)]\n",
    "    weights[window_size] = 1.0\n",
    "    weights = [1 / x for x in weights]\n",
    "    return weights\n",
    "    \n",
    "def topic_smoothing(topic_probs, window_size=6, num_iterations=10):\n",
    "    smoothed_topic_probs = deepcopy(topic_probs)\n",
    "    for i in range(num_iterations):\n",
    "        old_topic_probs = deepcopy(smoothed_topic_probs)\n",
    "        for d in range(len(topic_probs)):\n",
    "            document_size = smoothed_topic_probs[d].shape[1]\n",
    "            for w in range(document_size):\n",
    "                window_start = max(0, w - window_size)\n",
    "                window_end = min(document_size, w + window_size + 1)\n",
    "                context_topics = old_topic_probs[d][:, window_start: window_end]\n",
    "                context_weights = smoothing_weigths(window_size)[window_size - (w - window_start): \n",
    "                                                                 window_size + (window_end - w)]\n",
    "                #print(context_weights)\n",
    "                smoothed_topic_probs[d][:, w] = np.sum(context_weights * context_topics, axis=1)\n",
    "                #bug, fix this shit\n",
    "                if np.sum(smoothed_topic_probs[d][:, w]) == 0.0:\n",
    "                    pass\n",
    "                    #print(i, d, w)\n",
    "                smoothed_topic_probs[d][:, w] = smoothed_topic_probs[d][:, w] / np.sum(\n",
    "                    smoothed_topic_probs[d][:, w])\n",
    "    return smoothed_topic_probs\n",
    "\n",
    "def evaluate_topics(pred, true, translation):\n",
    "    acc, edit_distance, window_diff = 0.0, 0.0, 0.0\n",
    "    true_labels_statistics = defaultdict(float)\n",
    "    pred_labels_statistics = defaultdict(float)\n",
    "    intersection_labels_statistics = defaultdict(float)\n",
    "    for index, pred_seq in enumerate(pred):\n",
    "        seq_acc = 0.0\n",
    "        edit_distance += topics_edit_distance(pred_seq, true[index], translation) / len(true[index])\n",
    "        window_diff += wd_distance(pred_seq, true[index])\n",
    "        true_seq = true[index]\n",
    "        for seq_index, pred_label in enumerate(pred_seq):\n",
    "            true_label = true_seq[seq_index]\n",
    "            for label in translation[pred_label]:\n",
    "                pred_labels_statistics[label] += 1.0\n",
    "                if true_label in translation[pred_label]:\n",
    "                    intersection_labels_statistics[label] += 1.0\n",
    "                    true_labels_statistics[label] += 1.0\n",
    "            if true_label in translation[pred_label]:\n",
    "                seq_acc += 1.0\n",
    "        seq_acc /= len(pred_seq)\n",
    "        acc += seq_acc\n",
    "    f1_scores = defaultdict(float)\n",
    "    for label in true_labels_statistics.keys():\n",
    "        precision, recall = 0.0, 0.0\n",
    "        if pred_labels_statistics[label] > 0:\n",
    "            precision = intersection_labels_statistics[label] / pred_labels_statistics[label]\n",
    "        if true_labels_statistics[label] > 0:\n",
    "            recall = intersection_labels_statistics[label] / true_labels_statistics[label]\n",
    "        if not(precision == 0.0 and recall == 0.0):\n",
    "            f1_scores[label] = 2 * precision * recall / (precision + recall) * 1.0 / (true_labels_statistics[label]) \n",
    "    return acc / len(pred), edit_distance / len(pred), sum(f1_scores.values()), window_diff / len(pred)"
   ]
  },
  {
   "cell_type": "code",
   "execution_count": 69,
   "metadata": {},
   "outputs": [
    {
     "data": {
      "text/plain": [
       "[0, 0, 0, 0, 0, 0, 1, 0, 0, 0, 1, 0]"
      ]
     },
     "execution_count": 69,
     "metadata": {},
     "output_type": "execute_result"
    }
   ],
   "source": [
    "get_boundaries(labels[0])"
   ]
  },
  {
   "cell_type": "code",
   "execution_count": 44,
   "metadata": {
    "collapsed": true
   },
   "outputs": [],
   "source": [
    "def print_transitions(trans_features):\n",
    "    for (label_from, label_to), weight in trans_features:\n",
    "        print(\"%-6s -> %-7s %0.6f\" % (label_from, label_to, weight))\n",
    "\n",
    "def print_state_features(state_features):\n",
    "    for (attr, label), weight in state_features:\n",
    "        print(\"%0.6f %-8s %s\" % (weight, label, attr))"
   ]
  },
  {
   "cell_type": "code",
   "execution_count": 27,
   "metadata": {
    "collapsed": true
   },
   "outputs": [],
   "source": [
    "def test(num_examples=100):\n",
    "    translation = {str(i): {str(i)} for i in range(0, 10)}\n",
    "    for _ in range(num_examples):\n",
    "        first = np.random.random_integers(0, 9, 100)\n",
    "        second = np.random.random_integers(0, 9, 200)\n",
    "        first = squash_sequence(first)\n",
    "        second = squash_sequence(second)\n",
    "        first = \"\".join(map(str, first))\n",
    "        second = \"\".join(map(str, second))\n",
    "        assert editdistance.eval(first, second) == topics_edit_distance(first, second, translation)"
   ]
  },
  {
   "cell_type": "code",
   "execution_count": 28,
   "metadata": {},
   "outputs": [
    {
     "name": "stderr",
     "output_type": "stream",
     "text": [
      "/usr/local/lib/python3.6/site-packages/ipykernel_launcher.py:4: DeprecationWarning: This function is deprecated. Please call randint(0, 9 + 1) instead\n",
      "  after removing the cwd from sys.path.\n",
      "/usr/local/lib/python3.6/site-packages/ipykernel_launcher.py:5: DeprecationWarning: This function is deprecated. Please call randint(0, 9 + 1) instead\n",
      "  \"\"\"\n"
     ]
    }
   ],
   "source": [
    "test()"
   ]
  },
  {
   "cell_type": "code",
   "execution_count": null,
   "metadata": {},
   "outputs": [
    {
     "name": "stderr",
     "output_type": "stream",
     "text": [
      "/usr/local/lib/python3.6/site-packages/ipykernel_launcher.py:74: RuntimeWarning: invalid value encountered in true_divide\n"
     ]
    },
    {
     "name": "stdout",
     "output_type": "stream",
     "text": [
      "CPU times: user 1min 45s, sys: 1.6 s, total: 1min 46s\n",
      "Wall time: 1min 45s\n"
     ]
    }
   ],
   "source": [
    "%%time\n",
    "scores = {}\n",
    "for num_iterations in range(1, 11):\n",
    "    for window_size in range(1, 8):\n",
    "        smoothed_topic_probs = topic_smoothing(topic_probs, window_size, num_iterations)\n",
    "        smoothed_results = [argmax_topic_segmentation(smoothed_topic_probs[i]) for i in range(len(smoothed_topic_probs))]\n",
    "        score = evaluate_topics(smoothed_results, labels, translation)\n",
    "        scores[(num_iterations, window_size)] = score"
   ]
  },
  {
   "cell_type": "code",
   "execution_count": 117,
   "metadata": {
    "scrolled": true
   },
   "outputs": [
    {
     "data": {
      "text/plain": [
       "[((3, 5),\n",
       "  (0.5254892958915611,\n",
       "   0.47424240651107707,\n",
       "   0.47117497466786334,\n",
       "   0.22765350967128445)),\n",
       " ((5, 7),\n",
       "  (0.5254557852788019,\n",
       "   0.47427335620178857,\n",
       "   0.5057914823461889,\n",
       "   0.18583052581433726)),\n",
       " ((3, 6),\n",
       "  (0.5255064503176108,\n",
       "   0.47427343324619342,\n",
       "   0.4748838256203543,\n",
       "   0.2230371764644806)),\n",
       " ((3, 4),\n",
       "  (0.5254406392265003,\n",
       "   0.47432222381841377,\n",
       "   0.46910249968862877,\n",
       "   0.23363646055511142)),\n",
       " ((3, 7),\n",
       "  (0.525364633502031,\n",
       "   0.47448856922006932,\n",
       "   0.47651324914526033,\n",
       "   0.2214550824694867)),\n",
       " ((4, 4),\n",
       "  (0.5251910431188959,\n",
       "   0.47458085175108899,\n",
       "   0.47794427638979736,\n",
       "   0.21136916635841307)),\n",
       " ((4, 6),\n",
       "  (0.5251448005614643,\n",
       "   0.47465357067123842,\n",
       "   0.4920341859136894,\n",
       "   0.2023436358206062)),\n",
       " ((5, 6),\n",
       "  (0.5251106432832544,\n",
       "   0.4746787246487934,\n",
       "   0.5038869914241904,\n",
       "   0.1890256463564023)),\n",
       " ((4, 7),\n",
       "  (0.5251119893501123,\n",
       "   0.47475802380523924,\n",
       "   0.4975765714940022,\n",
       "   0.2012534738027519)),\n",
       " ((6, 5),\n",
       "  (0.5244561520038119,\n",
       "   0.47527298947677837,\n",
       "   0.5048680280653656,\n",
       "   0.18241423942746626))]"
      ]
     },
     "execution_count": 117,
     "metadata": {},
     "output_type": "execute_result"
    }
   ],
   "source": [
    "sorted(scores.items(), key=lambda x: x[1][1])[:10]"
   ]
  },
  {
   "cell_type": "code",
   "execution_count": 128,
   "metadata": {},
   "outputs": [],
   "source": [
    "temp = {}\n",
    "for num_iterations, window_size in scores.keys():\n",
    "    if window_size == 5:\n",
    "        temp[num_iterations] = (scores[(num_iterations, window_size)])"
   ]
  },
  {
   "cell_type": "code",
   "execution_count": 145,
   "metadata": {
    "collapsed": true
   },
   "outputs": [],
   "source": [
    "def plot_smoothing_graphic(window_size):\n",
    "    temp = {}\n",
    "    for num_iterations, w in scores.keys():\n",
    "        if w == window_size:\n",
    "            temp[num_iterations] = (scores[(num_iterations, w)])\n",
    "    plt.figure(figsize=(15, 8))\n",
    "    plt.plot(list(temp.keys()), list(map(lambda x: x[0], temp.values())), label=\"accuracy\")\n",
    "    plt.plot(list(temp.keys()), list(map(lambda x: x[1], temp.values())), label=\"f1 score\")\n",
    "    plt.plot(list(temp.keys()), list(map(lambda x: x[2], temp.values())), label=\"edit distance\")\n",
    "    plt.plot(list(temp.keys()), list(map(lambda x: x[3], temp.values())), label=\"WD\")\n",
    "    plt.xlabel(\"number of iterations\")\n",
    "    plt.legend(title=\"window size=\"+str(window_size))\n",
    "    plt.show()"
   ]
  },
  {
   "cell_type": "code",
   "execution_count": 147,
   "metadata": {},
   "outputs": [
    {
     "name": "stderr",
     "output_type": "stream",
     "text": [
      "/usr/local/lib/python3.6/site-packages/matplotlib/font_manager.py:1297: UserWarning: findfont: Font family ['sans-serif'] not found. Falling back to DejaVu Sans\n",
      "  (prop.get_family(), self.defaultFamily[fontext]))\n"
     ]
    },
    {
     "data": {
      "image/png": "[encoded data removed]",
      "text/plain": [
       "<matplotlib.figure.Figure at 0x7fbadf58e0f0>"
      ]
     },
     "metadata": {},
     "output_type": "display_data"
    }
   ],
   "source": [
    "plot_smoothing_graphic(7)"
   ]
  },
  {
   "cell_type": "code",
   "execution_count": 146,
   "metadata": {},
   "outputs": [
    {
     "name": "stderr",
     "output_type": "stream",
     "text": [
      "/usr/local/lib/python3.6/site-packages/matplotlib/font_manager.py:1297: UserWarning: findfont: Font family ['sans-serif'] not found. Falling back to DejaVu Sans\n",
      "  (prop.get_family(), self.defaultFamily[fontext]))\n"
     ]
    },
    {
     "data": {
      "image/png": "[encoded data removed]",
      "text/plain": [
       "<matplotlib.figure.Figure at 0x7fbadf610390>"
      ]
     },
     "metadata": {},
     "output_type": "display_data"
    }
   ],
   "source": [
    "plot_smoothing_graphic(5)"
   ]
  },
  {
   "cell_type": "code",
   "execution_count": 144,
   "metadata": {},
   "outputs": [
    {
     "name": "stderr",
     "output_type": "stream",
     "text": [
      "/usr/local/lib/python3.6/site-packages/matplotlib/font_manager.py:1297: UserWarning: findfont: Font family ['sans-serif'] not found. Falling back to DejaVu Sans\n",
      "  (prop.get_family(), self.defaultFamily[fontext]))\n"
     ]
    },
    {
     "data": {
      "image/png": "[encoded data removed]",
      "text/plain": [
       "<matplotlib.figure.Figure at 0x7fbadf729358>"
      ]
     },
     "metadata": {},
     "output_type": "display_data"
    }
   ],
   "source": [
    "plot_smoothing_graphic(3)"
   ]
  },
  {
   "cell_type": "code",
   "execution_count": 136,
   "metadata": {},
   "outputs": [
    {
     "data": {
      "text/plain": [
       "<matplotlib.legend.Legend at 0x7fbaef386c50>"
      ]
     },
     "execution_count": 136,
     "metadata": {},
     "output_type": "execute_result"
    },
    {
     "name": "stderr",
     "output_type": "stream",
     "text": [
      "/usr/local/lib/python3.6/site-packages/matplotlib/font_manager.py:1297: UserWarning: findfont: Font family ['sans-serif'] not found. Falling back to DejaVu Sans\n",
      "  (prop.get_family(), self.defaultFamily[fontext]))\n"
     ]
    },
    {
     "data": {
      "image/png": "[encoded data removed]",
      "text/plain": [
       "<matplotlib.figure.Figure at 0x7fbaee6c1c88>"
      ]
     },
     "metadata": {},
     "output_type": "display_data"
    }
   ],
   "source": [
    "plt.figure(figsize=(15, 8))\n",
    "plt.plot(list(temp.keys()), list(map(lambda x: x[0], temp.values())), label=\"accuracy\")\n",
    "plt.plot(list(temp.keys()), list(map(lambda x: x[1], temp.values())), label=\"f1 score\")\n",
    "plt.plot(list(temp.keys()), list(map(lambda x: x[2], temp.values())), label=\"edit distance\")\n",
    "plt.plot(list(temp.keys()), list(map(lambda x: x[3], temp.values())), label=\"WD\")\n",
    "\n",
    "plt.legend(title=\"window size=5\")"
   ]
  },
  {
   "cell_type": "code",
   "execution_count": null,
   "metadata": {
    "collapsed": true
   },
   "outputs": [],
   "source": [
    "temp = {}\n",
    "for num_iterations, window_size in scores.keys():\n",
    "    if window_size == 6:\n",
    "        temp[num_iterations] = (scores[(num_iterations, window_size)])\n",
    "        \n",
    "plt.figure(figsize=(15, 8))\n",
    "plt.plot(list(temp.keys()), list(map(lambda x: x[0], temp.values())), label=\"accuracy\")\n",
    "plt.plot(list(temp.keys()), list(map(lambda x: x[1], temp.values())), label=\"f1 score\")\n",
    "plt.plot(list(temp.keys()), list(map(lambda x: x[2], temp.values())), label=\"edit distance\")\n",
    "plt.plot(list(temp.keys()), list(map(lambda x: x[3], temp.values())), label=\"WD\")\n",
    "\n",
    "plt.legend(title=\"window size=5\")"
   ]
  },
  {
   "cell_type": "code",
   "execution_count": 129,
   "metadata": {},
   "outputs": [
    {
     "ename": "TypeError",
     "evalue": "'int' object is not subscriptable",
     "output_type": "error",
     "traceback": [
      "\u001b[0;31m---------------------------------------------------------------------------\u001b[0m",
      "\u001b[0;31mTypeError\u001b[0m                                 Traceback (most recent call last)",
      "\u001b[0;32m<ipython-input-129-b515c5fc4fa7>\u001b[0m in \u001b[0;36m<module>\u001b[0;34m()\u001b[0m\n\u001b[0;32m----> 1\u001b[0;31m \u001b[0mlist\u001b[0m\u001b[0;34m(\u001b[0m\u001b[0mmap\u001b[0m\u001b[0;34m(\u001b[0m\u001b[0;32mlambda\u001b[0m \u001b[0mx\u001b[0m\u001b[0;34m:\u001b[0m \u001b[0mx\u001b[0m\u001b[0;34m[\u001b[0m\u001b[0;36m0\u001b[0m\u001b[0;34m]\u001b[0m\u001b[0;34m,\u001b[0m \u001b[0mtemp\u001b[0m\u001b[0;34m.\u001b[0m\u001b[0mkeys\u001b[0m\u001b[0;34m(\u001b[0m\u001b[0;34m)\u001b[0m\u001b[0;34m)\u001b[0m\u001b[0;34m)\u001b[0m\u001b[0;34m\u001b[0m\u001b[0m\n\u001b[0m",
      "\u001b[0;32m<ipython-input-129-b515c5fc4fa7>\u001b[0m in \u001b[0;36m<lambda>\u001b[0;34m(x)\u001b[0m\n\u001b[0;32m----> 1\u001b[0;31m \u001b[0mlist\u001b[0m\u001b[0;34m(\u001b[0m\u001b[0mmap\u001b[0m\u001b[0;34m(\u001b[0m\u001b[0;32mlambda\u001b[0m \u001b[0mx\u001b[0m\u001b[0;34m:\u001b[0m \u001b[0mx\u001b[0m\u001b[0;34m[\u001b[0m\u001b[0;36m0\u001b[0m\u001b[0;34m]\u001b[0m\u001b[0;34m,\u001b[0m \u001b[0mtemp\u001b[0m\u001b[0;34m.\u001b[0m\u001b[0mkeys\u001b[0m\u001b[0;34m(\u001b[0m\u001b[0;34m)\u001b[0m\u001b[0;34m)\u001b[0m\u001b[0;34m)\u001b[0m\u001b[0;34m\u001b[0m\u001b[0m\n\u001b[0m",
      "\u001b[0;31mTypeError\u001b[0m: 'int' object is not subscriptable"
     ]
    }
   ],
   "source": [
    "list(map(lambda x: x[0], temp.keys()))"
   ]
  },
  {
   "cell_type": "code",
   "execution_count": 31,
   "metadata": {},
   "outputs": [
    {
     "name": "stdout",
     "output_type": "stream",
     "text": [
      "0 11 0\n",
      "0 11 1\n",
      "0 42 0\n",
      "0 42 1\n",
      "0 42 2\n",
      "0 87 0\n",
      "0 191 20\n",
      "0 217 0\n",
      "0 217 1\n",
      "0 217 2\n"
     ]
    },
    {
     "name": "stderr",
     "output_type": "stream",
     "text": [
      "/usr/local/lib/python3.6/site-packages/ipykernel_launcher.py:52: RuntimeWarning: invalid value encountered in true_divide\n"
     ]
    },
    {
     "name": "stdout",
     "output_type": "stream",
     "text": [
      "0 455 0\n",
      "0 523 0\n",
      "0 523 1\n",
      "0 535 9\n"
     ]
    }
   ],
   "source": [
    "smoothed_topic_probs = topic_smoothing(topic_probs, 3, 5)"
   ]
  },
  {
   "cell_type": "code",
   "execution_count": 32,
   "metadata": {
    "collapsed": true
   },
   "outputs": [],
   "source": [
    "#Some p(t|w,d) vectors are all-zero, in this case we ignore their smoothed versions\n",
    "bad_indexes = []\n",
    "for i, d in enumerate(smoothed_topic_probs):\n",
    "    if np.isnan(np.min(d)):\n",
    "        bad_indexes.append(i)\n",
    "for i in bad_indexes:\n",
    "    smoothed_topic_probs[i] = topic_probs[i]"
   ]
  },
  {
   "cell_type": "code",
   "execution_count": 33,
   "metadata": {
    "collapsed": true
   },
   "outputs": [],
   "source": [
    "for i, d in enumerate(smoothed_topic_probs):\n",
    "    if np.isnan(np.min(d)):\n",
    "        print(i)"
   ]
  },
  {
   "cell_type": "code",
   "execution_count": 34,
   "metadata": {
    "collapsed": true
   },
   "outputs": [],
   "source": [
    "#sorted(scores.items(), key=lambda x: x[1][1])[:10]"
   ]
  },
  {
   "cell_type": "code",
   "execution_count": 35,
   "metadata": {},
   "outputs": [
    {
     "data": {
      "text/plain": [
       "0.99999992052714026"
      ]
     },
     "execution_count": 35,
     "metadata": {},
     "output_type": "execute_result"
    }
   ],
   "source": [
    "np.sum(smoothed_topic_probs[0]) / smoothed_topic_probs[0].shape[1]"
   ]
  },
  {
   "cell_type": "code",
   "execution_count": 36,
   "metadata": {},
   "outputs": [
    {
     "data": {
      "text/plain": [
       "(53, 12)"
      ]
     },
     "execution_count": 36,
     "metadata": {},
     "output_type": "execute_result"
    }
   ],
   "source": [
    "smoothed_topic_probs[0].shape"
   ]
  },
  {
   "cell_type": "code",
   "execution_count": 37,
   "metadata": {
    "collapsed": true
   },
   "outputs": [],
   "source": [
    "not_smoothed_results = [argmax_topic_segmentation(topic_probs[i]) for i in range(len(topic_probs))]\n",
    "smoothed_results = [argmax_topic_segmentation(smoothed_topic_probs[i]) for i in range(len(smoothed_topic_probs))]"
   ]
  },
  {
   "cell_type": "code",
   "execution_count": 109,
   "metadata": {},
   "outputs": [
    {
     "data": {
      "text/plain": [
       "(0.5243767059446883,\n",
       " 0.47546850808359253,\n",
       " 0.4750695550031161,\n",
       " 0.20634379848700873)"
      ]
     },
     "execution_count": 109,
     "metadata": {},
     "output_type": "execute_result"
    }
   ],
   "source": [
    "evaluate_topics(smoothed_results, labels, translation)"
   ]
  },
  {
   "cell_type": "code",
   "execution_count": 110,
   "metadata": {},
   "outputs": [
    {
     "data": {
      "text/plain": [
       "(0.3522237890528806,\n",
       " 0.64763230919692771,\n",
       " 0.4432006256116683,\n",
       " 0.7044146486922588)"
      ]
     },
     "execution_count": 110,
     "metadata": {},
     "output_type": "execute_result"
    }
   ],
   "source": [
    "evaluate_topics(not_smoothed_results, labels, translation)"
   ]
  },
  {
   "cell_type": "code",
   "execution_count": 40,
   "metadata": {
    "collapsed": true
   },
   "outputs": [],
   "source": [
    "new2new_translation = {i: {i} for i in range(-1, 43)}"
   ]
  },
  {
   "cell_type": "markdown",
   "metadata": {},
   "source": [
    "5-fold кросс валидация модели"
   ]
  },
  {
   "cell_type": "code",
   "execution_count": 105,
   "metadata": {
    "collapsed": true
   },
   "outputs": [],
   "source": [
    "Param = namedtuple(\"Param\", field_names=[\"name\", \"value\"])\n",
    "\n",
    "CRF_PARAMS = {\n",
    "    \"topics\": [\n",
    "        Param(\"Topics disabled\", [None for i in range(len(phrases))]), \n",
    "        Param(\"Topics not smoothing\", topic_probs),\n",
    "        Param(\"Topics smoothing\", smoothed_topic_probs),\n",
    "    ],\n",
    "    \"w2v\": [\n",
    "        Param(\"w2v disabled\", None), \n",
    "        Param(\"w2v enabled\", w2v_model),\n",
    "    ],\n",
    "}"
   ]
  },
  {
   "cell_type": "code",
   "execution_count": 106,
   "metadata": {
    "collapsed": true
   },
   "outputs": [],
   "source": [
    "def generate_data(phrases, params):\n",
    "    X_data = [phrase_to_features(phrases[i], i, *map(lambda x: x.value, params)) for i in range(len(phrases))]\n",
    "    y_data = [[str(x) for x in labels[i]] for i in range(len(labels))]\n",
    "    return X_data, y_data"
   ]
  },
  {
   "cell_type": "code",
   "execution_count": 111,
   "metadata": {
    "scrolled": true
   },
   "outputs": [
    {
     "name": "stdout",
     "output_type": "stream",
     "text": [
      "0\n",
      "1936\n"
     ]
    },
    {
     "name": "stderr",
     "output_type": "stream",
     "text": [
      "/usr/local/lib/python3.6/site-packages/sklearn/metrics/classification.py:1113: UndefinedMetricWarning: F-score is ill-defined and being set to 0.0 in labels with no predicted samples.\n",
      "  'precision', 'predicted', average, warn_for)\n"
     ]
    },
    {
     "name": "stdout",
     "output_type": "stream",
     "text": [
      "0\n",
      "1936\n",
      "0\n",
      "1936\n",
      "0\n",
      "1936\n",
      "0\n",
      "1936\n",
      "Topics disabled ; w2v disabled ;  --- accuracy: 0.14458534779026927, f1: 0.0374121640631434, edit distance: 0.8978966856479607, window_diff: 0.12019733379811504\n",
      "6756\n",
      "1936\n"
     ]
    },
    {
     "name": "stderr",
     "output_type": "stream",
     "text": [
      "/usr/local/lib/python3.6/site-packages/sklearn/metrics/classification.py:1115: UndefinedMetricWarning: F-score is ill-defined and being set to 0.0 in labels with no true samples.\n",
      "  'recall', 'true', average, warn_for)\n"
     ]
    },
    {
     "name": "stdout",
     "output_type": "stream",
     "text": [
      "6751\n",
      "1936\n",
      "6738\n",
      "1936\n",
      "6754\n",
      "1936\n",
      "6760\n",
      "1936\n",
      "Topics disabled ; w2v enabled ;  --- accuracy: 0.6007695102624682, f1: 0.5914351510525744, edit distance: 0.38054240348305657, window_diff: 0.13826909331093648\n",
      "2332\n",
      "1936\n",
      "2332\n",
      "1936\n",
      "2332\n",
      "1936\n",
      "2332\n",
      "1936\n",
      "2332\n",
      "1936\n",
      "Topics not smoothing ; w2v disabled ;  --- accuracy: 0.5640789019958479, f1: 0.5410330607913052, edit distance: 0.4448148550036022, window_diff: 0.10473729249443804\n",
      "9088\n",
      "1936\n",
      "9083\n",
      "1936\n",
      "9070\n",
      "1936\n",
      "9086\n",
      "1936\n",
      "9092\n",
      "1936\n",
      "Topics not smoothing ; w2v enabled ;  --- accuracy: 0.6204920426665609, f1: 0.6146896651350309, edit distance: 0.358483342676197, window_diff: 0.1360052982058923\n",
      "2332\n",
      "1936\n",
      "2332\n",
      "1936\n",
      "2332\n",
      "1936\n",
      "2332\n",
      "1936\n",
      "2332\n",
      "1936\n",
      "Topics smoothing ; w2v disabled ;  --- accuracy: 0.5206092130160641, f1: 0.49610678094267396, edit distance: 0.47313288336341913, window_diff: 0.11758276536447643\n",
      "9088\n",
      "1936\n",
      "9083\n",
      "1936\n",
      "9070\n",
      "1936\n",
      "9086\n",
      "1936\n",
      "9092\n",
      "1936\n",
      "Topics smoothing ; w2v enabled ;  --- accuracy: 0.6337703978174387, f1: 0.6294136762351632, edit distance: 0.36092359604218266, window_diff: 0.14516591401082582\n",
      "CPU times: user 21min 55s, sys: 1.3 s, total: 21min 56s\n",
      "Wall time: 22min\n"
     ]
    }
   ],
   "source": [
    "%%time\n",
    "params_list = itertools.product(*CRF_PARAMS.values())\n",
    "temp = []\n",
    "params_scores = {}\n",
    "rs = ShuffleSplit(n_splits=5, random_state=42)\n",
    "splits_indexes = list(rs.split(list(range(len(phrases)))))\n",
    "for params in params_list:\n",
    "    X_data, y_data = generate_data(phrases, params)\n",
    "    accuracy_scores = []\n",
    "    f1_scores = []\n",
    "    edit_distance_scores = []\n",
    "    window_diff_scores = []\n",
    "    for train_indexes, test_indexes in splits_indexes:\n",
    "        X_train, X_test, y_train, y_test = [], [], [], []\n",
    "        for train_index in train_indexes:\n",
    "            X_train.append(X_data[train_index])\n",
    "            y_train.append(y_data[train_index])\n",
    "        for test_index in test_indexes:\n",
    "            X_test.append(X_data[test_index])\n",
    "            y_test.append(y_data[test_index])\n",
    "        crf = sklearn_crfsuite.CRF(algorithm=\"lbfgs\", max_iterations=2000, verbose=False, \n",
    "                               all_possible_transitions=True, all_possible_states=True)\n",
    "        crf.fit(X_train, y_train)\n",
    "        print(len(crf.state_features_))\n",
    "        print(len(crf.transition_features_))\n",
    "        temp = crf.transition_features_.keys()\n",
    "        y_pred = crf.predict(X_test)\n",
    "        accuracy_scores.append(metrics.flat_accuracy_score(y_test, y_pred))\n",
    "        f1_scores.append(metrics.flat_f1_score(y_test, y_pred, average=\"weighted\"))\n",
    "        y_test = [list(map(int, x)) for x in y_test]\n",
    "        y_pred = [list(map(int, x)) for x in y_pred]\n",
    "        my_scores = evaluate_topics(y_pred, y_test, translation=new2new_translation)\n",
    "        edit_distance_scores.append(my_scores[1])\n",
    "        window_diff_scores.append(my_scores[-1])\n",
    "    accuracy_score = np.mean(accuracy_scores)\n",
    "    f1_score = np.mean(f1_scores)\n",
    "    edit_distance_score = np.mean(edit_distance_scores)\n",
    "    window_diff_score = np.mean(window_diff_scores)\n",
    "    output_string = \"{} ; \"* len(params) + \" --- accuracy: {}, f1: {}, edit distance: {}, window_diff: {}\"\n",
    "    print(output_string.format(*map(lambda x: x.name, params), accuracy_score, f1_score, \n",
    "                               edit_distance_score, window_diff_score))\n",
    "    params_scores[tuple(map(lambda x: x.name, params))] = accuracy_score, f1_score, edit_distance_score, window_diff_score"
   ]
  },
  {
   "cell_type": "code",
   "execution_count": 116,
   "metadata": {},
   "outputs": [
    {
     "data": {
      "text/plain": [
       "{('Topics disabled', 'w2v disabled'): (0.14458534779026927,\n",
       "  0.037412164063143398,\n",
       "  0.89789668564796066,\n",
       "  0.12019733379811504),\n",
       " ('Topics disabled', 'w2v enabled'): (0.60076951026246816,\n",
       "  0.59143515105257438,\n",
       "  0.38054240348305657,\n",
       "  0.13826909331093648),\n",
       " ('Topics not smoothing', 'w2v disabled'): (0.56407890199584787,\n",
       "  0.5410330607913052,\n",
       "  0.44481485500360218,\n",
       "  0.10473729249443804),\n",
       " ('Topics not smoothing', 'w2v enabled'): (0.62049204266656088,\n",
       "  0.61468966513503087,\n",
       "  0.35848334267619703,\n",
       "  0.1360052982058923),\n",
       " ('Topics smoothing', 'w2v disabled'): (0.52060921301606411,\n",
       "  0.49610678094267396,\n",
       "  0.47313288336341913,\n",
       "  0.11758276536447643),\n",
       " ('Topics smoothing', 'w2v enabled'): (0.63377039781743871,\n",
       "  0.6294136762351632,\n",
       "  0.36092359604218266,\n",
       "  0.14516591401082582)}"
      ]
     },
     "execution_count": 116,
     "metadata": {},
     "output_type": "execute_result"
    }
   ],
   "source": [
    "params_scores"
   ]
  },
  {
   "cell_type": "code",
   "execution_count": 62,
   "metadata": {
    "collapsed": true
   },
   "outputs": [],
   "source": [
    "params = [Param(\"Topics smoothing\", smoothed_topic_probs), Param(\"w2v enabled\", w2v_model),]\n",
    "X_data, y_data = generate_data(phrases, params)"
   ]
  },
  {
   "cell_type": "code",
   "execution_count": 63,
   "metadata": {},
   "outputs": [
    {
     "name": "stdout",
     "output_type": "stream",
     "text": [
      "CPU times: user 1min 34s, sys: 36 ms, total: 1min 34s\n",
      "Wall time: 1min 34s\n"
     ]
    }
   ],
   "source": [
    "%%time\n",
    "crf = sklearn_crfsuite.CRF(algorithm=\"lbfgs\", max_iterations=2000, verbose=False, \n",
    "                               all_possible_transitions=True, all_possible_states=True)\n",
    "crf.fit(X_data, y_data)"
   ]
  },
  {
   "cell_type": "code",
   "execution_count": 99,
   "metadata": {},
   "outputs": [
    {
     "name": "stdout",
     "output_type": "stream",
     "text": [
      "здравствовать звать имя сотрудник банка тинькофф предложение повод банковский карта пара минута\n",
      "\n",
      "сказать кредит какой банка_другой\n",
      "\n",
      "ответ данный момент возможность получить кредитный карта высокий_статус виза платинум первоначальный кредитный_лимит тысяча рубль беспроцентный_период день карта выпускаться срок год доставляться неактивированный вид вместе полный документ_пакет возможность ознакомиться ваш индивидуальный_условие прежде принимать какой решение карта не активировать поэтому решение повод активация принимать почему задать вопрос повод кредит потому данный момент этот карта баланс_перевод услуга абсолютно бесплатный помощь наш карта возможность частично полностью погасить задолженность ваш иной кредит более выгодный условие предоставить беспроцентный_период месяц месяц погашать процент такой образ сэкономить свой денежный средство такой предложение\n",
      "\n",
      "процент интересный который годовой перевод\n",
      "\n",
      "смотреть перевод перевод услуга абсолютно бесплатный течение месяц не платить надо какой кредит перекрыть другой перекрыть месяц не платить месяц положить сумма который перекрыть другой кредит соответственно не оплачивать\n",
      "\n",
      "допустить примерно ориентировочно навести процент секундочка допустить льготный_период месяц проходить процент насчитываться задолженность_остаток первое день совершение дать операция воспользоваться услуга сумма тысяча рубль возвращать течение месяц ежемесячный составить примерно рубль общий процент плата кредит ориентировочно один процент\n",
      "\n",
      "хорошо какой преимущество цель мой звонок давать общий информация обширный более детально ознакомиться заявка_оформлять течение банковский всего занимать минута наличие_паспорт необходимый течение день банковский получать уведомление какой образ получить документ данный карта представитель наш банка подпись почтовый ящик место жительство никуда не ехать нигде не стоять очередь очень комфортно принцип никакой плата не получать сумма который заказать заявка банк высчитывать полностью процентный_ставка потому финансирование не владеть такой информация там расписать открывать конверт получаться ознакамливаться свой документ читать весь пункт подпункт ознакамливаться никакой юридический имя наш заявка момент пока не подписать договор не стать наш клиент юридический имя абсолютно никакой не иметь ознакамливаться документ устраивать подписать возвратный письмо отправить банк данный момент устраивать сумма денежный никакой средство необходимость нет воспользоваться_карта течение допустить год год не воспользоваться аннулироваться год находиться понадобиться средство полгода год активировать рука запасный вариант денежный какой там капитал принцип момент активация лежать находиться не платить абсолютно\n",
      "\n",
      "говорить обширный детальный весь этот момент нюанс прочитать собственно дом ознакомиться сравнить банка_другой другой условие\n",
      "\n",
      "да зайти сайт_тинькофф ознакомиться главный информация смотреть заявка сайт сделать необходимый помощь оператор момент там бывать такой нюанс правильно заполнение оператор хотеть ознакомиться перезвонить завтра дать ответ\n",
      "\n",
      "завтра перезвонить обед\n",
      "\n"
     ]
    }
   ],
   "source": [
    "for phrase in phrases[:10]:\n",
    "    print(\" \".join(phrase), end=\"\\n\\n\")"
   ]
  },
  {
   "cell_type": "code",
   "execution_count": 100,
   "metadata": {},
   "outputs": [
    {
     "data": {
      "text/plain": [
       "[[0, 0, 0, 0, 0, 0, 1, 1, 1, 1, 2, 2],\n",
       " [3, 3, 3, 3],\n",
       " [-1,\n",
       "  -1,\n",
       "  -1,\n",
       "  -1,\n",
       "  -1,\n",
       "  -1,\n",
       "  -1,\n",
       "  4,\n",
       "  4,\n",
       "  4,\n",
       "  5,\n",
       "  5,\n",
       "  5,\n",
       "  5,\n",
       "  6,\n",
       "  6,\n",
       "  -1,\n",
       "  -1,\n",
       "  -1,\n",
       "  -1,\n",
       "  7,\n",
       "  7,\n",
       "  7,\n",
       "  7,\n",
       "  7,\n",
       "  7,\n",
       "  9,\n",
       "  9,\n",
       "  9,\n",
       "  9,\n",
       "  10,\n",
       "  10,\n",
       "  10,\n",
       "  10,\n",
       "  10,\n",
       "  10,\n",
       "  10,\n",
       "  10,\n",
       "  10,\n",
       "  10,\n",
       "  10,\n",
       "  10,\n",
       "  -1,\n",
       "  -1,\n",
       "  3,\n",
       "  3,\n",
       "  3,\n",
       "  -1,\n",
       "  -1,\n",
       "  -1,\n",
       "  11,\n",
       "  11,\n",
       "  11,\n",
       "  11,\n",
       "  11,\n",
       "  11,\n",
       "  11,\n",
       "  11,\n",
       "  11,\n",
       "  11,\n",
       "  11,\n",
       "  11,\n",
       "  11,\n",
       "  11,\n",
       "  11,\n",
       "  11,\n",
       "  11,\n",
       "  11,\n",
       "  11,\n",
       "  11,\n",
       "  6,\n",
       "  6,\n",
       "  6,\n",
       "  6,\n",
       "  6,\n",
       "  6,\n",
       "  6,\n",
       "  6,\n",
       "  6,\n",
       "  6,\n",
       "  6,\n",
       "  6,\n",
       "  12,\n",
       "  12],\n",
       " [13, 13, 13, 13, 13],\n",
       " [11,\n",
       "  11,\n",
       "  11,\n",
       "  11,\n",
       "  11,\n",
       "  11,\n",
       "  6,\n",
       "  6,\n",
       "  6,\n",
       "  6,\n",
       "  6,\n",
       "  6,\n",
       "  6,\n",
       "  6,\n",
       "  6,\n",
       "  6,\n",
       "  6,\n",
       "  6,\n",
       "  6,\n",
       "  6,\n",
       "  6,\n",
       "  6,\n",
       "  6,\n",
       "  6,\n",
       "  6,\n",
       "  6,\n",
       "  6,\n",
       "  6,\n",
       "  6],\n",
       " [13,\n",
       "  13,\n",
       "  13,\n",
       "  13,\n",
       "  13,\n",
       "  -1,\n",
       "  -1,\n",
       "  6,\n",
       "  6,\n",
       "  6,\n",
       "  13,\n",
       "  13,\n",
       "  13,\n",
       "  13,\n",
       "  13,\n",
       "  13,\n",
       "  13,\n",
       "  13,\n",
       "  13,\n",
       "  13,\n",
       "  13,\n",
       "  13,\n",
       "  13,\n",
       "  13,\n",
       "  13,\n",
       "  13,\n",
       "  13,\n",
       "  13,\n",
       "  13,\n",
       "  13,\n",
       "  13,\n",
       "  13,\n",
       "  13,\n",
       "  13,\n",
       "  13,\n",
       "  13,\n",
       "  13],\n",
       " [-1,\n",
       "  -1,\n",
       "  -1,\n",
       "  1,\n",
       "  1,\n",
       "  1,\n",
       "  1,\n",
       "  1,\n",
       "  1,\n",
       "  1,\n",
       "  10,\n",
       "  10,\n",
       "  10,\n",
       "  14,\n",
       "  14,\n",
       "  14,\n",
       "  14,\n",
       "  14,\n",
       "  14,\n",
       "  15,\n",
       "  15,\n",
       "  7,\n",
       "  7,\n",
       "  7,\n",
       "  7,\n",
       "  7,\n",
       "  7,\n",
       "  7,\n",
       "  7,\n",
       "  7,\n",
       "  7,\n",
       "  7,\n",
       "  7,\n",
       "  7,\n",
       "  7,\n",
       "  7,\n",
       "  7,\n",
       "  7,\n",
       "  7,\n",
       "  7,\n",
       "  7,\n",
       "  7,\n",
       "  7,\n",
       "  7,\n",
       "  7,\n",
       "  7,\n",
       "  7,\n",
       "  7,\n",
       "  7,\n",
       "  7,\n",
       "  7,\n",
       "  7,\n",
       "  -1,\n",
       "  13,\n",
       "  13,\n",
       "  13,\n",
       "  13,\n",
       "  13,\n",
       "  13,\n",
       "  13,\n",
       "  13,\n",
       "  13,\n",
       "  10,\n",
       "  10,\n",
       "  10,\n",
       "  10,\n",
       "  10,\n",
       "  10,\n",
       "  10,\n",
       "  10,\n",
       "  10,\n",
       "  10,\n",
       "  10,\n",
       "  10,\n",
       "  10,\n",
       "  10,\n",
       "  10,\n",
       "  10,\n",
       "  10,\n",
       "  10,\n",
       "  10,\n",
       "  10,\n",
       "  10,\n",
       "  10,\n",
       "  10,\n",
       "  10,\n",
       "  10,\n",
       "  10,\n",
       "  10,\n",
       "  10,\n",
       "  10,\n",
       "  10,\n",
       "  10,\n",
       "  10,\n",
       "  10,\n",
       "  10,\n",
       "  10,\n",
       "  10,\n",
       "  10,\n",
       "  10,\n",
       "  10,\n",
       "  10,\n",
       "  10,\n",
       "  10,\n",
       "  10,\n",
       "  10,\n",
       "  10,\n",
       "  10,\n",
       "  10,\n",
       "  10,\n",
       "  10,\n",
       "  10,\n",
       "  10,\n",
       "  10,\n",
       "  10,\n",
       "  10,\n",
       "  10,\n",
       "  10,\n",
       "  10,\n",
       "  10,\n",
       "  10,\n",
       "  10,\n",
       "  10,\n",
       "  10,\n",
       "  10,\n",
       "  10,\n",
       "  10,\n",
       "  10,\n",
       "  10,\n",
       "  10,\n",
       "  10,\n",
       "  10,\n",
       "  10,\n",
       "  10,\n",
       "  10,\n",
       "  10,\n",
       "  10,\n",
       "  10,\n",
       "  10,\n",
       "  10,\n",
       "  10,\n",
       "  10,\n",
       "  10,\n",
       "  10,\n",
       "  10,\n",
       "  10,\n",
       "  10,\n",
       "  10],\n",
       " [1, 1, 10, 10, 10, 10, 10, 10, 10, 10, 10, 16, 16, 16, 16],\n",
       " [-1,\n",
       "  17,\n",
       "  17,\n",
       "  17,\n",
       "  17,\n",
       "  17,\n",
       "  14,\n",
       "  14,\n",
       "  14,\n",
       "  14,\n",
       "  14,\n",
       "  14,\n",
       "  14,\n",
       "  14,\n",
       "  14,\n",
       "  14,\n",
       "  14,\n",
       "  14,\n",
       "  14,\n",
       "  14,\n",
       "  14,\n",
       "  14,\n",
       "  14,\n",
       "  18,\n",
       "  18,\n",
       "  18,\n",
       "  18],\n",
       " [18, 18, 18]]"
      ]
     },
     "execution_count": 100,
     "metadata": {},
     "output_type": "execute_result"
    }
   ],
   "source": [
    "labels[:10]"
   ]
  },
  {
   "cell_type": "code",
   "execution_count": 101,
   "metadata": {},
   "outputs": [
    {
     "data": {
      "text/plain": [
       "[['0', '0', '0', '0', '0', '0', '1', '1', '1', '1', '2', '2'],\n",
       " ['3', '3', '3', '3'],\n",
       " ['-1',\n",
       "  '-1',\n",
       "  '-1',\n",
       "  '1',\n",
       "  '1',\n",
       "  '1',\n",
       "  '1',\n",
       "  '4',\n",
       "  '4',\n",
       "  '4',\n",
       "  '5',\n",
       "  '5',\n",
       "  '5',\n",
       "  '5',\n",
       "  '6',\n",
       "  '6',\n",
       "  '6',\n",
       "  '6',\n",
       "  '6',\n",
       "  '6',\n",
       "  '7',\n",
       "  '7',\n",
       "  '7',\n",
       "  '7',\n",
       "  '7',\n",
       "  '7',\n",
       "  '10',\n",
       "  '10',\n",
       "  '10',\n",
       "  '10',\n",
       "  '10',\n",
       "  '10',\n",
       "  '10',\n",
       "  '10',\n",
       "  '10',\n",
       "  '10',\n",
       "  '10',\n",
       "  '10',\n",
       "  '10',\n",
       "  '10',\n",
       "  '10',\n",
       "  '10',\n",
       "  '3',\n",
       "  '3',\n",
       "  '3',\n",
       "  '3',\n",
       "  '3',\n",
       "  '-1',\n",
       "  '-1',\n",
       "  '-1',\n",
       "  '11',\n",
       "  '11',\n",
       "  '11',\n",
       "  '11',\n",
       "  '11',\n",
       "  '11',\n",
       "  '11',\n",
       "  '11',\n",
       "  '11',\n",
       "  '11',\n",
       "  '11',\n",
       "  '11',\n",
       "  '11',\n",
       "  '11',\n",
       "  '11',\n",
       "  '11',\n",
       "  '11',\n",
       "  '11',\n",
       "  '11',\n",
       "  '11',\n",
       "  '11',\n",
       "  '6',\n",
       "  '6',\n",
       "  '6',\n",
       "  '6',\n",
       "  '6',\n",
       "  '6',\n",
       "  '6',\n",
       "  '6',\n",
       "  '6',\n",
       "  '6',\n",
       "  '6',\n",
       "  '12',\n",
       "  '12'],\n",
       " ['13', '13', '13', '13', '13'],\n",
       " ['11',\n",
       "  '11',\n",
       "  '11',\n",
       "  '11',\n",
       "  '11',\n",
       "  '11',\n",
       "  '6',\n",
       "  '6',\n",
       "  '6',\n",
       "  '6',\n",
       "  '6',\n",
       "  '6',\n",
       "  '6',\n",
       "  '6',\n",
       "  '6',\n",
       "  '6',\n",
       "  '6',\n",
       "  '6',\n",
       "  '6',\n",
       "  '6',\n",
       "  '6',\n",
       "  '6',\n",
       "  '6',\n",
       "  '6',\n",
       "  '6',\n",
       "  '6',\n",
       "  '6',\n",
       "  '6',\n",
       "  '6'],\n",
       " ['13',\n",
       "  '13',\n",
       "  '13',\n",
       "  '13',\n",
       "  '13',\n",
       "  '13',\n",
       "  '13',\n",
       "  '13',\n",
       "  '13',\n",
       "  '13',\n",
       "  '13',\n",
       "  '13',\n",
       "  '13',\n",
       "  '13',\n",
       "  '13',\n",
       "  '13',\n",
       "  '13',\n",
       "  '13',\n",
       "  '13',\n",
       "  '13',\n",
       "  '13',\n",
       "  '13',\n",
       "  '13',\n",
       "  '13',\n",
       "  '13',\n",
       "  '13',\n",
       "  '13',\n",
       "  '13',\n",
       "  '13',\n",
       "  '13',\n",
       "  '13',\n",
       "  '13',\n",
       "  '13',\n",
       "  '13',\n",
       "  '13',\n",
       "  '13',\n",
       "  '13'],\n",
       " ['-1',\n",
       "  '-1',\n",
       "  '-1',\n",
       "  '1',\n",
       "  '1',\n",
       "  '1',\n",
       "  '1',\n",
       "  '1',\n",
       "  '1',\n",
       "  '10',\n",
       "  '10',\n",
       "  '10',\n",
       "  '10',\n",
       "  '14',\n",
       "  '14',\n",
       "  '14',\n",
       "  '14',\n",
       "  '14',\n",
       "  '14',\n",
       "  '15',\n",
       "  '15',\n",
       "  '7',\n",
       "  '7',\n",
       "  '7',\n",
       "  '7',\n",
       "  '7',\n",
       "  '7',\n",
       "  '7',\n",
       "  '7',\n",
       "  '7',\n",
       "  '7',\n",
       "  '7',\n",
       "  '7',\n",
       "  '7',\n",
       "  '7',\n",
       "  '7',\n",
       "  '7',\n",
       "  '7',\n",
       "  '7',\n",
       "  '7',\n",
       "  '7',\n",
       "  '7',\n",
       "  '7',\n",
       "  '7',\n",
       "  '7',\n",
       "  '7',\n",
       "  '7',\n",
       "  '7',\n",
       "  '7',\n",
       "  '7',\n",
       "  '7',\n",
       "  '7',\n",
       "  '7',\n",
       "  '13',\n",
       "  '13',\n",
       "  '13',\n",
       "  '13',\n",
       "  '13',\n",
       "  '13',\n",
       "  '13',\n",
       "  '13',\n",
       "  '13',\n",
       "  '10',\n",
       "  '10',\n",
       "  '10',\n",
       "  '10',\n",
       "  '10',\n",
       "  '10',\n",
       "  '10',\n",
       "  '10',\n",
       "  '10',\n",
       "  '10',\n",
       "  '10',\n",
       "  '10',\n",
       "  '10',\n",
       "  '10',\n",
       "  '10',\n",
       "  '10',\n",
       "  '10',\n",
       "  '10',\n",
       "  '10',\n",
       "  '10',\n",
       "  '10',\n",
       "  '10',\n",
       "  '10',\n",
       "  '10',\n",
       "  '10',\n",
       "  '10',\n",
       "  '10',\n",
       "  '10',\n",
       "  '10',\n",
       "  '10',\n",
       "  '10',\n",
       "  '10',\n",
       "  '10',\n",
       "  '10',\n",
       "  '10',\n",
       "  '10',\n",
       "  '10',\n",
       "  '10',\n",
       "  '10',\n",
       "  '10',\n",
       "  '10',\n",
       "  '10',\n",
       "  '10',\n",
       "  '10',\n",
       "  '10',\n",
       "  '10',\n",
       "  '10',\n",
       "  '10',\n",
       "  '10',\n",
       "  '10',\n",
       "  '10',\n",
       "  '10',\n",
       "  '10',\n",
       "  '10',\n",
       "  '10',\n",
       "  '10',\n",
       "  '10',\n",
       "  '10',\n",
       "  '10',\n",
       "  '10',\n",
       "  '10',\n",
       "  '10',\n",
       "  '10',\n",
       "  '10',\n",
       "  '10',\n",
       "  '10',\n",
       "  '10',\n",
       "  '10',\n",
       "  '10',\n",
       "  '10',\n",
       "  '10',\n",
       "  '10',\n",
       "  '10',\n",
       "  '10',\n",
       "  '10',\n",
       "  '10',\n",
       "  '10',\n",
       "  '10',\n",
       "  '10',\n",
       "  '10',\n",
       "  '10',\n",
       "  '10',\n",
       "  '10',\n",
       "  '10',\n",
       "  '10',\n",
       "  '10'],\n",
       " ['10',\n",
       "  '10',\n",
       "  '10',\n",
       "  '10',\n",
       "  '10',\n",
       "  '10',\n",
       "  '10',\n",
       "  '10',\n",
       "  '10',\n",
       "  '10',\n",
       "  '10',\n",
       "  '10',\n",
       "  '16',\n",
       "  '16',\n",
       "  '16'],\n",
       " ['17',\n",
       "  '17',\n",
       "  '17',\n",
       "  '17',\n",
       "  '17',\n",
       "  '-1',\n",
       "  '-1',\n",
       "  '-1',\n",
       "  '-1',\n",
       "  '-1',\n",
       "  '-1',\n",
       "  '-1',\n",
       "  '-1',\n",
       "  '-1',\n",
       "  '-1',\n",
       "  '-1',\n",
       "  '-1',\n",
       "  '-1',\n",
       "  '-1',\n",
       "  '-1',\n",
       "  '-1',\n",
       "  '-1',\n",
       "  '18',\n",
       "  '18',\n",
       "  '18',\n",
       "  '18',\n",
       "  '18'],\n",
       " ['18', '18', '18']]"
      ]
     },
     "execution_count": 101,
     "metadata": {},
     "output_type": "execute_result"
    }
   ],
   "source": [
    "crf.predict(X_data[:10])"
   ]
  },
  {
   "cell_type": "code",
   "execution_count": 64,
   "metadata": {
    "scrolled": true
   },
   "outputs": [
    {
     "name": "stdout",
     "output_type": "stream",
     "text": [
      "0.919475655431\n",
      "Top likely transitions:\n",
      "12     -> 12      5.240397\n",
      "10     -> 10      5.240163\n",
      "18     -> 18      5.228113\n",
      "21     -> 21      5.199127\n",
      "3      -> 3       5.030366\n",
      "17     -> 17      4.954965\n",
      "14     -> 14      4.929268\n",
      "20     -> 20      4.921449\n",
      "6      -> 6       4.746184\n",
      "16     -> 16      4.697310\n",
      "24     -> 24      4.671358\n",
      "11     -> 11      4.645574\n",
      "13     -> 13      4.582466\n",
      "32     -> 32      4.552639\n",
      "1      -> 1       4.551282\n",
      "25     -> 25      4.550577\n",
      "9      -> 9       4.486413\n",
      "22     -> 22      4.437221\n",
      "34     -> 34      4.367108\n",
      "39     -> 39      4.337941\n",
      "\n",
      "Top unlikely transitions:\n",
      "20     -> 1       -0.422051\n",
      "1      -> 21      -0.426728\n",
      "6      -> 3       -0.432130\n",
      "12     -> 9       -0.435591\n",
      "21     -> 35      -0.435977\n",
      "23     -> 17      -0.438011\n",
      "13     -> 6       -0.439768\n",
      "14     -> 1       -0.450187\n",
      "12     -> 6       -0.460765\n",
      "14     -> 12      -0.464320\n",
      "23     -> 12      -0.486743\n",
      "21     -> 10      -0.495761\n",
      "2      -> 10      -0.502963\n",
      "6      -> 10      -0.519434\n",
      "21     -> 6       -0.524577\n",
      "12     -> 1       -0.543471\n",
      "32     -> 9       -0.552181\n",
      "12     -> 11      -0.566079\n",
      "6      -> 21      -0.569242\n",
      "7      -> 10      -0.613416\n"
     ]
    }
   ],
   "source": [
    "print(crf.score(X_data, y_data))\n",
    "print(\"Top likely transitions:\")\n",
    "print_transitions(Counter(crf.transition_features_).most_common(20))\n",
    "\n",
    "print(\"\\nTop unlikely transitions:\")\n",
    "print_transitions(Counter(crf.transition_features_).most_common()[-20:])"
   ]
  },
  {
   "cell_type": "code",
   "execution_count": 65,
   "metadata": {
    "scrolled": true
   },
   "outputs": [
    {
     "name": "stdout",
     "output_type": "stream",
     "text": [
      "0 {27}\n",
      "1 {37}\n",
      "2 {19}\n",
      "3 {16, 33, 3}\n",
      "4 {11}\n",
      "5 {25}\n",
      "6 {21}\n",
      "7 {6}\n",
      "8 {29}\n",
      "9 {33, 13}\n",
      "10 {17, 38}\n",
      "11 {25}\n",
      "12 {27, 15}\n",
      "13 {22}\n",
      "14 {28}\n",
      "15 {41}\n",
      "16 {18}\n",
      "17 {40}\n",
      "18 {23}\n",
      "19 {8, 7}\n",
      "20 {31}\n",
      "21 {20, 12}\n",
      "22 {17, 18}\n",
      "23 {32}\n",
      "24 {25, 37}\n",
      "25 {25, 12, 38}\n",
      "26 {14}\n",
      "27 {33, 34, 42, 12, 25}\n",
      "28 {36}\n",
      "29 {25}\n",
      "30 {4}\n",
      "31 {24}\n",
      "32 {5}\n",
      "33 {8, 7}\n",
      "34 {25}\n",
      "35 {12}\n",
      "36 {9}\n",
      "37 {25}\n",
      "38 {24}\n",
      "39 {26}\n",
      "40 {30}\n",
      "41 {35}\n",
      "42 {16, 13}\n",
      "43 {34, 3, 12}\n",
      "44 {1}\n",
      "45 {14}\n",
      "46 {2}\n",
      "47 {10}\n",
      "48 {0}\n",
      "49 {5}\n",
      "50 {21}\n",
      "51 {12}\n",
      "52 {-1}\n"
     ]
    }
   ],
   "source": [
    "for i in range(len(translation)):\n",
    "    print(i, translation[i])"
   ]
  },
  {
   "cell_type": "code",
   "execution_count": 66,
   "metadata": {
    "scrolled": true
   },
   "outputs": [
    {
     "name": "stdout",
     "output_type": "stream",
     "text": [
      "Top positive:\n",
      "1.851708 29       topic 8\n",
      "1.748815 11       topic 4\n",
      "1.692683 15       topic 12\n",
      "1.584614 20       topic 21\n",
      "1.552952 30       topic 40\n",
      "1.550972 18       topic 16\n",
      "1.547463 10       topic 47\n",
      "1.500569 40       topic 17\n",
      "1.487429 24       topic 31\n",
      "1.457597 -1       topic 21\n",
      "1.426853 36       topic 28\n",
      "1.405204 16       topic 3\n",
      "1.341955 -1       topic 48\n",
      "1.339767 22       topic 13\n",
      "1.302784 -1       topic 30\n",
      "1.261673 27       topic 0\n",
      "1.257291 -1       topic 32\n",
      "1.255118 -1       topic 16\n",
      "1.228484 13       topic 9\n",
      "1.205266 38       topic 25\n",
      "1.171660 26       topic 39\n",
      "1.163132 4        topic 30\n",
      "1.134237 37       topic 1\n",
      "1.127287 -1       topic 46\n",
      "1.111923 1        topic 51\n",
      "1.103471 42       topic 43\n",
      "1.094385 25       topic 27\n",
      "1.061686 28       topic 14\n",
      "1.029788 -1       topic 22\n",
      "1.027588 12       topic 41\n",
      "\n",
      "Top negative:\n",
      "-0.449883 10       topic 12\n",
      "-0.469469 20       w2v 51\n",
      "-0.476114 20       topic 52\n",
      "-0.478978 17       w2v 45\n",
      "-0.479291 14       w2v 7\n",
      "-0.479609 1        -1 w2v\n",
      "-0.480110 6        w2v 177\n",
      "-0.489228 2        w2v 126\n",
      "-0.491412 14       w2v 131\n",
      "-0.494928 25       w2v 177\n",
      "-0.495412 -1       w2v 134\n",
      "-0.497122 16       -1 w2v\n",
      "-0.497270 3        topic 4\n",
      "-0.505848 12       w2v 9\n",
      "-0.509212 2        +1 w2v\n",
      "-0.511092 1        topic 4\n",
      "-0.514374 -1       w2v 288\n",
      "-0.522172 -1       w2v 206\n",
      "-0.528950 1        topic 43\n",
      "-0.536216 21       topic 28\n",
      "-0.550615 6        topic 23\n",
      "-0.556595 12       w2v 208\n",
      "-0.575920 20       w2v 240\n",
      "-0.578832 14       topic 33\n",
      "-0.626965 18       -1 w2v\n",
      "-0.636149 13       w2v 30\n",
      "-0.675732 6        w2v 234\n",
      "-0.715750 -1       w2v 16\n",
      "-0.717382 -1       w2v 108\n",
      "-0.851591 12       +1 w2v\n"
     ]
    }
   ],
   "source": [
    "print(\"Top positive:\")\n",
    "print_state_features(Counter(crf.state_features_).most_common(30))\n",
    "\n",
    "print(\"\\nTop negative:\")\n",
    "print_state_features(Counter(crf.state_features_).most_common()[-30:])"
   ]
  },
  {
   "cell_type": "code",
   "execution_count": 34,
   "metadata": {},
   "outputs": [
    {
     "name": "stdout",
     "output_type": "stream",
     "text": [
      "0.402454675538\n"
     ]
    }
   ],
   "source": []
  },
  {
   "cell_type": "code",
   "execution_count": 25,
   "metadata": {},
   "outputs": [
    {
     "data": {
      "text/plain": [
       "593"
      ]
     },
     "execution_count": 25,
     "metadata": {},
     "output_type": "execute_result"
    }
   ],
   "source": [
    "len(phrases)"
   ]
  },
  {
   "cell_type": "code",
   "execution_count": 43,
   "metadata": {
    "collapsed": true
   },
   "outputs": [],
   "source": [
    "values = set()\n",
    "for pair in list(temp):\n",
    "    a, b = int(pair[0]), int(pair[1])\n",
    "    values.add(a)\n",
    "    values.add(b)"
   ]
  },
  {
   "cell_type": "code",
   "execution_count": 44,
   "metadata": {},
   "outputs": [
    {
     "data": {
      "text/plain": [
       "42"
      ]
     },
     "execution_count": 44,
     "metadata": {},
     "output_type": "execute_result"
    }
   ],
   "source": [
    "max(values)"
   ]
  },
  {
   "cell_type": "code",
   "execution_count": 45,
   "metadata": {},
   "outputs": [
    {
     "data": {
      "text/plain": [
       "-1"
      ]
     },
     "execution_count": 45,
     "metadata": {},
     "output_type": "execute_result"
    }
   ],
   "source": [
    "min(values)"
   ]
  },
  {
   "cell_type": "code",
   "execution_count": 22,
   "metadata": {},
   "outputs": [
    {
     "data": {
      "text/plain": [
       "(53, 12)"
      ]
     },
     "execution_count": 22,
     "metadata": {},
     "output_type": "execute_result"
    }
   ],
   "source": [
    "topic_probs[0].shape"
   ]
  }
 ],
 "metadata": {
  "kernelspec": {
   "display_name": "Python 3",
   "language": "python",
   "name": "python3"
  },
  "language_info": {
   "codemirror_mode": {
    "name": "ipython",
    "version": 3
   },
   "file_extension": ".py",
   "mimetype": "text/x-python",
   "name": "python",
   "nbconvert_exporter": "python",
   "pygments_lexer": "ipython3",
   "version": "3.6.0"
  },
  "widgets": {
   "state": {},
   "version": "1.1.1"
  }
 },
 "nbformat": 4,
 "nbformat_minor": 1
}
